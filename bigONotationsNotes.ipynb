{
 "cells": [
  {
   "cell_type": "markdown",
   "id": "00859b78",
   "metadata": {},
   "source": [
    "## BIG O NOTATIONS NOTES"
   ]
  },
  {
   "cell_type": "markdown",
   "id": "6d0dea65",
   "metadata": {},
   "source": [
    "<img src=\"./Images/algNotationsImg/Screenshot 2023-07-27 180733.png\" />"
   ]
  },
  {
   "cell_type": "markdown",
   "id": "7158c3be",
   "metadata": {},
   "source": [
    "<img src=\"./Images/algNotationsImg/Screenshot 2023-07-27 181604.png\" />"
   ]
  },
  {
   "cell_type": "markdown",
   "id": "66ab9c99",
   "metadata": {},
   "source": [
    "<img src=\"./Images/algNotationsImg/Screenshot 2023-07-27 181741.png\" />"
   ]
  },
  {
   "cell_type": "markdown",
   "id": "93e92eb0",
   "metadata": {},
   "source": [
    "<img src=\"./Images/algNotationsImg/Screenshot 2023-07-27 181820.png\" />"
   ]
  },
  {
   "cell_type": "markdown",
   "id": "d84dec92",
   "metadata": {},
   "source": [
    "<img src=\"./Images/algNotationsImg/Screenshot 2023-07-27 181944.png\" />"
   ]
  },
  {
   "cell_type": "markdown",
   "id": "7f7a4032",
   "metadata": {},
   "source": [
    "<img src=\"./Images/algNotationsImg/Screenshot 2023-07-27 182333.png\" />"
   ]
  },
  {
   "cell_type": "markdown",
   "id": "01d6744e",
   "metadata": {},
   "source": [
    "<img src=\"./Images/algNotationsImg/Screenshot 2023-07-27 182333.png\" />"
   ]
  },
  {
   "cell_type": "markdown",
   "id": "fa750ae7",
   "metadata": {},
   "source": [
    "<img src=\"./Images/algNotationsImg/Screenshot 2023-07-27 182501.png\" />"
   ]
  },
  {
   "cell_type": "markdown",
   "id": "58840973",
   "metadata": {},
   "source": [
    "<img src=\"./Images/algNotationsImg/Screenshot 2023-07-27 183108.png\" />"
   ]
  },
  {
   "cell_type": "markdown",
   "id": "196b3b3b",
   "metadata": {},
   "source": [
    "<img src=\"./Images/algNotationsImg/Screenshot 2023-07-27 183310.png\" />"
   ]
  },
  {
   "cell_type": "markdown",
   "id": "64a909b6",
   "metadata": {},
   "source": [
    "<img src=\"./Images/algNotationsImg/Screenshot 2023-07-27 183405.png\" />"
   ]
  },
  {
   "cell_type": "markdown",
   "id": "44102c81",
   "metadata": {},
   "source": [
    "<img src=\"./Images/algNotationsImg/Screenshot 2023-07-27 183900.png\" />"
   ]
  },
  {
   "cell_type": "markdown",
   "id": "2bc8a7b0",
   "metadata": {},
   "source": [
    "<img src=\"./Images/algNotationsImg/Screenshot 2023-07-27 183923.png\" />"
   ]
  },
  {
   "cell_type": "markdown",
   "id": "4059feea",
   "metadata": {},
   "source": [
    "<img src=\"./Images/algNotationsImg/Screenshot 2023-07-27 184048.png\" />"
   ]
  },
  {
   "cell_type": "markdown",
   "id": "0a6d8c41",
   "metadata": {},
   "source": [
    "<img src=\"./Images/algNotationsImg/Screenshot 2023-07-27 184231.png\" />"
   ]
  },
  {
   "cell_type": "code",
   "execution_count": null,
   "id": "4574807c",
   "metadata": {},
   "outputs": [],
   "source": []
  }
 ],
 "metadata": {
  "kernelspec": {
   "display_name": "Python 3 (ipykernel)",
   "language": "python",
   "name": "python3"
  },
  "language_info": {
   "codemirror_mode": {
    "name": "ipython",
    "version": 3
   },
   "file_extension": ".py",
   "mimetype": "text/x-python",
   "name": "python",
   "nbconvert_exporter": "python",
   "pygments_lexer": "ipython3",
   "version": "3.9.13"
  }
 },
 "nbformat": 4,
 "nbformat_minor": 5
}
