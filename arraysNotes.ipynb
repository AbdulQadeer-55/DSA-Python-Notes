{
 "cells": [
  {
   "cell_type": "markdown",
   "id": "11b8d372",
   "metadata": {},
   "source": [
    "## ARRAYS NOTES"
   ]
  },
  {
   "cell_type": "markdown",
   "id": "85d4cd55",
   "metadata": {},
   "source": [
    "<img src=\"./Images/arrayImg/Screenshot 2023-07-27 193939.png\"/>"
   ]
  },
  {
   "cell_type": "markdown",
   "id": "cda35fd7",
   "metadata": {},
   "source": [
    "<img src=\"./Images/arrayImg/Screenshot 2023-07-27 194630.png\"/>"
   ]
  },
  {
   "cell_type": "markdown",
   "id": "c1160a6a",
   "metadata": {},
   "source": [
    "<img src=\"./Images/arrayImg/Screenshot 2023-07-27 194802.png\"/>"
   ]
  },
  {
   "cell_type": "markdown",
   "id": "c0eef3fd",
   "metadata": {},
   "source": [
    "<img src=\"./Images/arrayImg/Screenshot 2023-07-27 194858.png\"/>"
   ]
  },
  {
   "cell_type": "markdown",
   "id": "0f14aa0d",
   "metadata": {},
   "source": [
    "<img src=\"./Images/arrayImg/Screenshot 2023-07-27 194907.png\"/>"
   ]
  },
  {
   "cell_type": "markdown",
   "id": "5b3adc5a",
   "metadata": {},
   "source": [
    "<img src=\"./Images/arrayImg/Screenshot 2023-07-27 193939.png\"/>"
   ]
  },
  {
   "cell_type": "markdown",
   "id": "85af0155",
   "metadata": {},
   "source": [
    "## Create an Array through module and by simple way"
   ]
  },
  {
   "cell_type": "code",
   "execution_count": 89,
   "id": "df163f98",
   "metadata": {},
   "outputs": [
    {
     "name": "stdout",
     "output_type": "stream",
     "text": [
      "1\n"
     ]
    }
   ],
   "source": [
    "simArr = [1,2,3,4,5]\n",
    "\n",
    "print(simArr[0])"
   ]
  },
  {
   "cell_type": "code",
   "execution_count": 90,
   "id": "d59e197b",
   "metadata": {},
   "outputs": [
    {
     "name": "stdout",
     "output_type": "stream",
     "text": [
      "4\n"
     ]
    }
   ],
   "source": [
    "print(simArr[3])"
   ]
  },
  {
   "cell_type": "code",
   "execution_count": 91,
   "id": "3d7c5914",
   "metadata": {},
   "outputs": [],
   "source": [
    "from array import *"
   ]
  },
  {
   "cell_type": "code",
   "execution_count": 92,
   "id": "1c746329",
   "metadata": {},
   "outputs": [
    {
     "name": "stdout",
     "output_type": "stream",
     "text": [
      "array('l', [1])\n"
     ]
    }
   ],
   "source": [
    "modArr = array('l',[1])\n",
    "print(modArr)"
   ]
  },
  {
   "cell_type": "markdown",
   "id": "3752f2af",
   "metadata": {},
   "source": [
    "## Insertion Operation"
   ]
  },
  {
   "cell_type": "code",
   "execution_count": 93,
   "id": "af82914a",
   "metadata": {},
   "outputs": [
    {
     "data": {
      "text/plain": [
       "array('l', [1, 9])"
      ]
     },
     "execution_count": 93,
     "metadata": {},
     "output_type": "execute_result"
    }
   ],
   "source": [
    "modArr.insert(2,9)\n",
    "\n",
    "# help(modArr.insert(1,2))\n",
    "# dir(modArr)\n",
    "modArr"
   ]
  },
  {
   "cell_type": "code",
   "execution_count": 94,
   "id": "7d60d1e5",
   "metadata": {},
   "outputs": [
    {
     "name": "stdout",
     "output_type": "stream",
     "text": [
      "1\n",
      "9\n"
     ]
    }
   ],
   "source": [
    "#TraversingArrays\n",
    "\n",
    "for traverse in modArr:\n",
    "    print(traverse)"
   ]
  },
  {
   "cell_type": "code",
   "execution_count": 95,
   "id": "df9c7cfa",
   "metadata": {},
   "outputs": [
    {
     "data": {
      "text/plain": [
       "-13"
      ]
     },
     "execution_count": 95,
     "metadata": {},
     "output_type": "execute_result"
    }
   ],
   "source": [
    "~0b1100"
   ]
  },
  {
   "cell_type": "code",
   "execution_count": 96,
   "id": "96ad7ba1",
   "metadata": {},
   "outputs": [
    {
     "data": {
      "text/plain": [
       "250"
      ]
     },
     "execution_count": 96,
     "metadata": {},
     "output_type": "execute_result"
    }
   ],
   "source": [
    "1000 >> 2"
   ]
  },
  {
   "cell_type": "code",
   "execution_count": null,
   "id": "e873fd90",
   "metadata": {},
   "outputs": [],
   "source": []
  },
  {
   "cell_type": "code",
   "execution_count": null,
   "id": "f6c179a6",
   "metadata": {},
   "outputs": [],
   "source": []
  },
  {
   "cell_type": "code",
   "execution_count": null,
   "id": "2ad72d5d",
   "metadata": {},
   "outputs": [],
   "source": []
  },
  {
   "cell_type": "code",
   "execution_count": null,
   "id": "63680016",
   "metadata": {},
   "outputs": [],
   "source": []
  }
 ],
 "metadata": {
  "kernelspec": {
   "display_name": "Python 3 (ipykernel)",
   "language": "python",
   "name": "python3"
  },
  "language_info": {
   "codemirror_mode": {
    "name": "ipython",
    "version": 3
   },
   "file_extension": ".py",
   "mimetype": "text/x-python",
   "name": "python",
   "nbconvert_exporter": "python",
   "pygments_lexer": "ipython3",
   "version": "3.9.13"
  }
 },
 "nbformat": 4,
 "nbformat_minor": 5
}
