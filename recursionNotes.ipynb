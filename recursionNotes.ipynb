{
 "cells": [
  {
   "cell_type": "markdown",
   "id": "7a75ffef",
   "metadata": {},
   "source": [
    "## RECURSION NOTES"
   ]
  },
  {
   "cell_type": "markdown",
   "id": "0fea61e4",
   "metadata": {},
   "source": [
    "<img src=\"./Images/recImg/Screenshot 2023-07-27 154653.png\" title=\"Types of Data Structures\" />"
   ]
  },
  {
   "cell_type": "markdown",
   "id": "d4f83bc1",
   "metadata": {},
   "source": [
    "<img src=\"./Images/recImg/Screenshot 2023-07-27 154919.png\" />"
   ]
  },
  {
   "cell_type": "markdown",
   "id": "7d2f2aee",
   "metadata": {},
   "source": [
    "<img src=\"./Images/recImg/Screenshot 2023-07-27 155025.png\" />"
   ]
  },
  {
   "cell_type": "markdown",
   "id": "78ff75eb",
   "metadata": {},
   "source": [
    "<img src=\"./Images/recImg/Screenshot 2023-07-27 155103.png\"  />"
   ]
  },
  {
   "cell_type": "markdown",
   "id": "8711469e",
   "metadata": {},
   "source": [
    "<img src=\"./Images/recImg/Screenshot 2023-07-27 155146.png\" />"
   ]
  },
  {
   "cell_type": "markdown",
   "id": "0eed4092",
   "metadata": {},
   "source": [
    "<img src=\"./Images/recImg/Screenshot 2023-07-27 155204.png\" />"
   ]
  },
  {
   "cell_type": "markdown",
   "id": "3d6c77cb",
   "metadata": {},
   "source": [
    "<img src=\"./Images/recImg/Screenshot 2023-07-27 155544.png\" />"
   ]
  },
  {
   "cell_type": "markdown",
   "id": "659b0668",
   "metadata": {},
   "source": [
    "<img src=\"./Images/recImg/Screenshot 2023-07-27 155605.png\"  />"
   ]
  },
  {
   "cell_type": "markdown",
   "id": "872079fa",
   "metadata": {},
   "source": [
    "<img src=\"./Images/recImg/Screenshot 2023-07-27 155613.png\"  />"
   ]
  },
  {
   "cell_type": "markdown",
   "id": "475acf52",
   "metadata": {},
   "source": [
    "<img src=\"./Images/recImg/Screenshot 2023-07-27 155831.png\" />"
   ]
  },
  {
   "cell_type": "markdown",
   "id": "67ebb92a",
   "metadata": {},
   "source": [
    "<img src=\"./Images/recImg/Screenshot 2023-07-27 160425.png\" />"
   ]
  },
  {
   "cell_type": "markdown",
   "id": "bbf75006",
   "metadata": {},
   "source": [
    "<img src=\"./Images/recImg/Screenshot 2023-07-27 160818.png\" />"
   ]
  },
  {
   "cell_type": "markdown",
   "id": "3ef5713c",
   "metadata": {},
   "source": [
    "<img src=\"./Images/recImg/Screenshot 2023-07-27 160938.png\" />"
   ]
  },
  {
   "cell_type": "markdown",
   "id": "600d1cfe",
   "metadata": {},
   "source": [
    "<img src=\"./Images/recImg/Screenshot 2023-07-27 164415.png\" />"
   ]
  },
  {
   "cell_type": "code",
   "execution_count": 20,
   "id": "7370399e",
   "metadata": {},
   "outputs": [],
   "source": [
    "#Write a factorize algorithm in recursion\n",
    "\n",
    "import sys\n",
    "#sys.setrecursionlimit(1000)\n",
    "def factorize(n):\n",
    "    assert n>=0 and int(n) == n, \"The number should be positive integer\" #unintensionalCase-TheConstraint\n",
    "    if n in [0,1]: #baseCondition\n",
    "        return 1\n",
    "    else:\n",
    "        return n * factorize(n-1) #recursionCase_TheFlow\n",
    "\n"
   ]
  },
  {
   "cell_type": "code",
   "execution_count": 21,
   "id": "a8eee27b",
   "metadata": {},
   "outputs": [
    {
     "name": "stdout",
     "output_type": "stream",
     "text": [
      "The factors of 3  is  6\n"
     ]
    }
   ],
   "source": [
    "findFactors = 3\n",
    "print(\"The factors of\",findFactors, \" is \", factorize(findFactors))"
   ]
  },
  {
   "cell_type": "markdown",
   "id": "9ee05da6",
   "metadata": {},
   "source": [
    "<img src=\"./Images/recImg/Screenshot 2023-07-27 165318.png\" />"
   ]
  },
  {
   "cell_type": "code",
   "execution_count": 22,
   "id": "92ae1c86",
   "metadata": {},
   "outputs": [],
   "source": [
    "#Write a fibonacci algorithm in recursion\n",
    "\n",
    "#Series: 0,1,1,2,3,5,8,13,21,...,n\n",
    "#each number is sum of two preceding numbers whereas sequence starts from 0 and 1\n",
    "\n",
    "def fibonacci(num):\n",
    "    assert num>=0 and int(num) == num, \"It should be integer and nonnegative number\"\n",
    "    if num in [0,1]:\n",
    "        return num\n",
    "    else:\n",
    "        return fibonacci(num-1) + fibonacci(num-2)\n"
   ]
  },
  {
   "cell_type": "code",
   "execution_count": 19,
   "id": "fb5ec3bc",
   "metadata": {},
   "outputs": [
    {
     "name": "stdout",
     "output_type": "stream",
     "text": [
      "The nth term is  3\n"
     ]
    }
   ],
   "source": [
    "print(\"The nth term is \",fibonacci(4))"
   ]
  },
  {
   "cell_type": "code",
   "execution_count": null,
   "id": "bb1e3393",
   "metadata": {},
   "outputs": [],
   "source": []
  }
 ],
 "metadata": {
  "kernelspec": {
   "display_name": "Python 3 (ipykernel)",
   "language": "python",
   "name": "python3"
  },
  "language_info": {
   "codemirror_mode": {
    "name": "ipython",
    "version": 3
   },
   "file_extension": ".py",
   "mimetype": "text/x-python",
   "name": "python",
   "nbconvert_exporter": "python",
   "pygments_lexer": "ipython3",
   "version": "3.9.13"
  }
 },
 "nbformat": 4,
 "nbformat_minor": 5
}
